{
 "cells": [
  {
   "cell_type": "code",
   "execution_count": 15,
   "metadata": {},
   "outputs": [],
   "source": [
    "import torch.optim as optim\n",
    "import numpy as np\n",
    "import torch.nn as nn\n",
    "from torch.utils.data import Dataset\n",
    "from torch.utils.data import DataLoader\n",
    "import torch\n",
    "import matplotlib.pyplot as plt"
   ]
  },
  {
   "cell_type": "markdown",
   "metadata": {},
   "source": [
    "## Preparing dataset"
   ]
  },
  {
   "cell_type": "code",
   "execution_count": 2,
   "metadata": {},
   "outputs": [],
   "source": [
    "# Useful Constants\n",
    "# Output classes to learn how to classify\n",
    "LABELS = [    \n",
    "    \"JUMPING\",\n",
    "    \"JUMPING_JACKS\",\n",
    "    \"BOXING\",\n",
    "    \"WAVING_2HANDS\",\n",
    "    \"WAVING_1HAND\",\n",
    "    \"CLAPPING_HANDS\"\n",
    "\n",
    "] \n",
    "DATASET_PATH = \"data/HAR_pose_activities/database/\"\n",
    "\n",
    "X_train_path = DATASET_PATH + \"X_train.txt\"\n",
    "X_test_path = DATASET_PATH + \"X_test.txt\"\n",
    "\n",
    "y_train_path = DATASET_PATH + \"Y_train.txt\"\n",
    "y_test_path = DATASET_PATH + \"Y_test.txt\"\n",
    "\n",
    "n_steps = 32 # 32 timesteps per series\n",
    "n_categories = len(LABELS)"
   ]
  },
  {
   "cell_type": "code",
   "execution_count": 3,
   "metadata": {},
   "outputs": [],
   "source": [
    "# Load the networks inputs\n",
    "\n",
    "def load_X(X_path):\n",
    "    file = open(X_path, 'r')\n",
    "    X_ = np.array(\n",
    "        [elem for elem in [\n",
    "            row.split(',') for row in file\n",
    "        ]], \n",
    "        dtype=np.float32\n",
    "    )\n",
    "    file.close()\n",
    "    blocks = int(len(X_) / n_steps)\n",
    "    \n",
    "    X_ = np.array(np.split(X_,blocks))\n",
    "\n",
    "    return X_ \n",
    "\n",
    "# Load the networks outputs\n",
    "def load_y(y_path):\n",
    "    file = open(y_path, 'r')\n",
    "    y_ = np.array(\n",
    "        [elem for elem in [\n",
    "            row.replace('  ', ' ').strip().split(' ') for row in file\n",
    "        ]], \n",
    "        dtype=np.int32\n",
    "    )\n",
    "    file.close()\n",
    "    \n",
    "    # for 0-based indexing \n",
    "    return y_ - 1\n",
    "\n",
    "X_train = load_X(X_train_path)\n",
    "X_test = load_X(X_test_path)\n",
    "\n",
    "y_train = load_y(y_train_path)\n",
    "y_test = load_y(y_test_path)\n",
    "\n",
    "y_train = np.squeeze(y_train)\n",
    "y_test = np.squeeze(y_test)"
   ]
  },
  {
   "cell_type": "markdown",
   "metadata": {},
   "source": [
    "# Parameters"
   ]
  },
  {
   "cell_type": "code",
   "execution_count": 4,
   "metadata": {},
   "outputs": [],
   "source": [
    "BATCH_SIZE = 128\n",
    "HIDDEN_DIM = 128\n",
    "NUM_LAYERS = 3\n",
    "\n",
    "NUM_JOINTS = 18*2\n",
    "NUM_CLASSES = 6\n",
    "SEQ_LEN = 32\n",
    "\n",
    "LOG_INTERVAL = 10\n",
    "NUM_EPOCHS = 600"
   ]
  },
  {
   "cell_type": "markdown",
   "metadata": {},
   "source": [
    "## Dataset Loader"
   ]
  },
  {
   "cell_type": "code",
   "execution_count": 5,
   "metadata": {},
   "outputs": [],
   "source": [
    "device = torch.device('cuda') if torch.cuda.is_available() else torch.device('cpu')"
   ]
  },
  {
   "cell_type": "code",
   "execution_count": 6,
   "metadata": {},
   "outputs": [],
   "source": [
    "class PoseDataset(Dataset):\n",
    "    def __init__(self, data, labels, transform=None):\n",
    "        self.data = torch.from_numpy(data)        \n",
    "        self.labels = torch.LongTensor(labels)\n",
    "        self.transform = transform\n",
    "        \n",
    "    def __getitem__(self, index):\n",
    "        x = self.data[index, :, :]\n",
    "        y = self.labels[index].long()\n",
    "\n",
    "        if self.transform:\n",
    "            x = self.transform(x)\n",
    "        \n",
    "        return x, y\n",
    "    \n",
    "    def __len__(self):\n",
    "        return len(self.data)"
   ]
  },
  {
   "cell_type": "code",
   "execution_count": 7,
   "metadata": {},
   "outputs": [],
   "source": [
    "train_dataset = PoseDataset(X_train, y_train, transform=None)\n",
    "train_loader = DataLoader(train_dataset, batch_size=BATCH_SIZE, shuffle=True)\n",
    "\n",
    "valid_dataset = PoseDataset(X_test, y_test, transform=None)\n",
    "valid_loader = DataLoader(valid_dataset, batch_size=BATCH_SIZE)    "
   ]
  },
  {
   "cell_type": "markdown",
   "metadata": {},
   "source": [
    "## Model"
   ]
  },
  {
   "cell_type": "code",
   "execution_count": 8,
   "metadata": {},
   "outputs": [],
   "source": [
    "class Net(nn.Module):\n",
    "    def __init__(self, input_dim, seq_len, hidden_dim, num_classes, layer_num):\n",
    "        super(Net,self).__init__()\n",
    "        self.lstm = torch.nn.LSTM(input_dim, hidden_dim, layer_num, batch_first=True)\n",
    "        self.fc = torch.nn.Linear(hidden_dim, num_classes)\n",
    "        self.bn = nn.BatchNorm1d(seq_len)\n",
    "        \n",
    "    def forward(self,inputs):\n",
    "        x = self.bn(inputs)\n",
    "        lstm_out,(hn,cn) = self.lstm(x)\n",
    "        out = self.fc(lstm_out[:,-1,:])\n",
    "        return out"
   ]
  },
  {
   "cell_type": "code",
   "execution_count": 9,
   "metadata": {},
   "outputs": [
    {
     "data": {
      "text/plain": [
       "Net(\n",
       "  (lstm): LSTM(36, 128, num_layers=3, batch_first=True)\n",
       "  (fc): Linear(in_features=128, out_features=6, bias=True)\n",
       "  (bn): BatchNorm1d(32, eps=1e-05, momentum=0.1, affine=True, track_running_stats=True)\n",
       ")"
      ]
     },
     "execution_count": 9,
     "metadata": {},
     "output_type": "execute_result"
    }
   ],
   "source": [
    "model = Net(NUM_JOINTS, SEQ_LEN, HIDDEN_DIM, NUM_CLASSES, NUM_LAYERS).to(device)\n",
    "model"
   ]
  },
  {
   "cell_type": "code",
   "execution_count": 10,
   "metadata": {},
   "outputs": [],
   "source": [
    "criterion = nn.CrossEntropyLoss()\n",
    "optimizer = optim.SGD(model.parameters(), lr=0.0005, momentum=0.9)\n",
    "scheduler = torch.optim.lr_scheduler.CosineAnnealingLR(optimizer, T_max=200)"
   ]
  },
  {
   "cell_type": "markdown",
   "metadata": {},
   "source": [
    "## Training "
   ]
  },
  {
   "cell_type": "code",
   "execution_count": 11,
   "metadata": {},
   "outputs": [],
   "source": [
    "losses = {}\n",
    "losses['train'] = []\n",
    "losses['valid'] = []\n",
    "accuracies = {}\n",
    "accuracies['train'] = []\n",
    "accuracies['valid'] = []\n",
    "\n",
    "train_batches = len(train_loader) \n",
    "valid_batches = len(valid_loader)"
   ]
  },
  {
   "cell_type": "code",
   "execution_count": 12,
   "metadata": {},
   "outputs": [],
   "source": [
    "# Training\n",
    "def train(epoch):\n",
    "    model.train()\n",
    "    train_loss = 0\n",
    "    correct = 0\n",
    "    total = 0\n",
    "    for batch_idx, (inputs, labels) in enumerate(train_loader):\n",
    "        inputs, labels = inputs.to(device), labels.to(device)        \n",
    "        optimizer.zero_grad()\n",
    "        outputs = model(inputs)\n",
    "        loss = criterion(outputs, labels)\n",
    "        loss.backward()\n",
    "        optimizer.step()\n",
    "        train_loss += loss.item()\n",
    "        _, predicted = outputs.max(1)\n",
    "        total += labels.size(0)\n",
    "        correct += predicted.eq(labels).sum().item()\n",
    "    \n",
    "    train_acc = 100. * correct/total\n",
    "    train_loss /= train_batches\n",
    "    \n",
    "    model.eval()\n",
    "    val_loss = 0\n",
    "    correct = 0\n",
    "    total = 0\n",
    "    with torch.no_grad():\n",
    "        for batch_idx, (inputs, labels) in enumerate(valid_loader):\n",
    "            inputs, labels = inputs.to(device), labels.to(device)\n",
    "            outputs = model(inputs)            \n",
    "            loss = criterion(outputs, labels)\n",
    "            val_loss += loss.item()\n",
    "            _, predicted = outputs.max(1)\n",
    "            total += labels.size(0)\n",
    "            correct += predicted.eq(labels).sum().item()\n",
    "    \n",
    "    val_acc = 100. * correct / total\n",
    "    val_loss /= valid_batches\n",
    "    \n",
    "    if epoch % LOG_INTERVAL == 0:\n",
    "        print('Epoch: %d | Loss: %.3f | Acc: %.3f%% | Valid Loss: %.3f | Valid Acc: %.3f%%' %\n",
    "              (epoch, train_loss, train_acc, val_loss, val_acc))\n",
    "    \n",
    "    losses['train'].append(train_loss)\n",
    "    accuracies['train'].append(train_acc)   \n",
    "    losses['valid'].append(val_loss)\n",
    "    accuracies['valid'].append(val_acc)    \n",
    "    "
   ]
  },
  {
   "cell_type": "code",
   "execution_count": 13,
   "metadata": {
    "scrolled": false
   },
   "outputs": [
    {
     "name": "stdout",
     "output_type": "stream",
     "text": [
      "Epoch: 10 | Loss: 1.741 | Acc: 22.343% | Valid Loss: 1.731 | Valid Acc: 22.831%\n",
      "Epoch: 20 | Loss: 1.738 | Acc: 22.343% | Valid Loss: 1.728 | Valid Acc: 22.831%\n",
      "Epoch: 30 | Loss: 1.736 | Acc: 22.343% | Valid Loss: 1.726 | Valid Acc: 22.831%\n",
      "Epoch: 40 | Loss: 1.731 | Acc: 23.562% | Valid Loss: 1.722 | Valid Acc: 24.152%\n",
      "Epoch: 50 | Loss: 1.719 | Acc: 31.412% | Valid Loss: 1.710 | Valid Acc: 32.134%\n",
      "Epoch: 60 | Loss: 1.512 | Acc: 45.114% | Valid Loss: 1.457 | Valid Acc: 47.905%\n",
      "Epoch: 70 | Loss: 1.096 | Acc: 52.265% | Valid Loss: 1.068 | Valid Acc: 55.121%\n",
      "Epoch: 80 | Loss: 0.704 | Acc: 69.344% | Valid Loss: 0.726 | Valid Acc: 71.431%\n",
      "Epoch: 90 | Loss: 0.553 | Acc: 72.729% | Valid Loss: 0.540 | Valid Acc: 75.969%\n",
      "Epoch: 100 | Loss: 0.492 | Acc: 77.604% | Valid Loss: 0.495 | Valid Acc: 77.673%\n",
      "Epoch: 110 | Loss: 0.404 | Acc: 83.916% | Valid Loss: 0.422 | Valid Acc: 82.473%\n",
      "Epoch: 120 | Loss: 0.340 | Acc: 87.775% | Valid Loss: 0.368 | Valid Acc: 85.585%\n",
      "Epoch: 130 | Loss: 0.271 | Acc: 91.306% | Valid Loss: 0.316 | Valid Acc: 89.237%\n",
      "Epoch: 140 | Loss: 0.226 | Acc: 92.933% | Valid Loss: 0.259 | Valid Acc: 91.045%\n",
      "Epoch: 150 | Loss: 0.195 | Acc: 93.945% | Valid Loss: 0.243 | Valid Acc: 91.584%\n",
      "Epoch: 160 | Loss: 0.176 | Acc: 94.661% | Valid Loss: 0.229 | Valid Acc: 92.297%\n",
      "Epoch: 170 | Loss: 0.163 | Acc: 95.182% | Valid Loss: 0.222 | Valid Acc: 92.314%\n",
      "Epoch: 180 | Loss: 0.158 | Acc: 95.288% | Valid Loss: 0.220 | Valid Acc: 92.766%\n",
      "Epoch: 190 | Loss: 0.154 | Acc: 95.430% | Valid Loss: 0.217 | Valid Acc: 92.540%\n",
      "Epoch: 200 | Loss: 0.153 | Acc: 95.452% | Valid Loss: 0.217 | Valid Acc: 92.645%\n",
      "Epoch: 210 | Loss: 0.153 | Acc: 95.474% | Valid Loss: 0.217 | Valid Acc: 92.610%\n",
      "Epoch: 220 | Loss: 0.154 | Acc: 95.355% | Valid Loss: 0.218 | Valid Acc: 92.766%\n",
      "Epoch: 230 | Loss: 0.155 | Acc: 95.346% | Valid Loss: 0.217 | Valid Acc: 92.714%\n",
      "Epoch: 240 | Loss: 0.152 | Acc: 95.399% | Valid Loss: 0.211 | Valid Acc: 92.993%\n",
      "Epoch: 250 | Loss: 0.147 | Acc: 95.430% | Valid Loss: 0.214 | Valid Acc: 92.940%\n",
      "Epoch: 260 | Loss: 0.142 | Acc: 95.465% | Valid Loss: 0.209 | Valid Acc: 92.923%\n",
      "Epoch: 270 | Loss: 0.149 | Acc: 95.333% | Valid Loss: 0.458 | Valid Acc: 85.863%\n",
      "Epoch: 280 | Loss: 0.125 | Acc: 96.128% | Valid Loss: 0.184 | Valid Acc: 93.740%\n",
      "Epoch: 290 | Loss: 0.132 | Acc: 95.779% | Valid Loss: 0.180 | Valid Acc: 94.001%\n",
      "Epoch: 300 | Loss: 0.092 | Acc: 97.180% | Valid Loss: 0.156 | Valid Acc: 94.766%\n",
      "Epoch: 310 | Loss: 0.073 | Acc: 97.985% | Valid Loss: 0.139 | Valid Acc: 95.131%\n",
      "Epoch: 320 | Loss: 0.093 | Acc: 97.008% | Valid Loss: 0.145 | Valid Acc: 95.253%\n",
      "Epoch: 330 | Loss: 0.074 | Acc: 97.702% | Valid Loss: 0.114 | Valid Acc: 96.609%\n",
      "Epoch: 340 | Loss: 0.055 | Acc: 98.223% | Valid Loss: 0.132 | Valid Acc: 95.879%\n",
      "Epoch: 350 | Loss: 0.050 | Acc: 98.444% | Valid Loss: 0.116 | Valid Acc: 96.575%\n",
      "Epoch: 360 | Loss: 0.038 | Acc: 98.860% | Valid Loss: 0.105 | Valid Acc: 96.418%\n",
      "Epoch: 370 | Loss: 0.041 | Acc: 98.793% | Valid Loss: 0.097 | Valid Acc: 96.679%\n",
      "Epoch: 380 | Loss: 0.036 | Acc: 98.939% | Valid Loss: 0.105 | Valid Acc: 96.696%\n",
      "Epoch: 390 | Loss: 0.025 | Acc: 99.222% | Valid Loss: 0.095 | Valid Acc: 97.322%\n",
      "Epoch: 400 | Loss: 0.025 | Acc: 99.315% | Valid Loss: 0.090 | Valid Acc: 96.957%\n",
      "Epoch: 410 | Loss: 0.028 | Acc: 99.182% | Valid Loss: 0.092 | Valid Acc: 97.200%\n",
      "Epoch: 420 | Loss: 0.019 | Acc: 99.456% | Valid Loss: 0.098 | Valid Acc: 96.853%\n",
      "Epoch: 430 | Loss: 0.018 | Acc: 99.501% | Valid Loss: 0.082 | Valid Acc: 97.618%\n",
      "Epoch: 440 | Loss: 0.019 | Acc: 99.412% | Valid Loss: 0.086 | Valid Acc: 97.740%\n",
      "Epoch: 450 | Loss: 0.011 | Acc: 99.686% | Valid Loss: 0.083 | Valid Acc: 97.705%\n",
      "Epoch: 460 | Loss: 0.008 | Acc: 99.779% | Valid Loss: 0.096 | Valid Acc: 97.374%\n",
      "Epoch: 470 | Loss: 0.006 | Acc: 99.898% | Valid Loss: 0.092 | Valid Acc: 97.740%\n",
      "Epoch: 480 | Loss: 0.008 | Acc: 99.801% | Valid Loss: 0.129 | Valid Acc: 97.131%\n",
      "Epoch: 490 | Loss: 0.004 | Acc: 99.920% | Valid Loss: 0.088 | Valid Acc: 97.931%\n",
      "Epoch: 500 | Loss: 0.004 | Acc: 99.916% | Valid Loss: 0.099 | Valid Acc: 97.670%\n",
      "Epoch: 510 | Loss: 0.003 | Acc: 99.938% | Valid Loss: 0.093 | Valid Acc: 97.774%\n",
      "Epoch: 520 | Loss: 0.003 | Acc: 99.965% | Valid Loss: 0.088 | Valid Acc: 97.879%\n",
      "Epoch: 530 | Loss: 0.003 | Acc: 99.978% | Valid Loss: 0.089 | Valid Acc: 97.757%\n",
      "Epoch: 540 | Loss: 0.002 | Acc: 99.973% | Valid Loss: 0.087 | Valid Acc: 97.844%\n",
      "Epoch: 550 | Loss: 0.002 | Acc: 99.996% | Valid Loss: 0.091 | Valid Acc: 97.861%\n",
      "Epoch: 560 | Loss: 0.002 | Acc: 99.996% | Valid Loss: 0.090 | Valid Acc: 97.879%\n",
      "Epoch: 570 | Loss: 0.002 | Acc: 99.996% | Valid Loss: 0.092 | Valid Acc: 97.792%\n",
      "Epoch: 580 | Loss: 0.002 | Acc: 99.991% | Valid Loss: 0.093 | Valid Acc: 97.792%\n",
      "Epoch: 590 | Loss: 0.002 | Acc: 99.991% | Valid Loss: 0.092 | Valid Acc: 97.774%\n",
      "Epoch: 600 | Loss: 0.002 | Acc: 99.996% | Valid Loss: 0.094 | Valid Acc: 97.774%\n"
     ]
    }
   ],
   "source": [
    "for epoch in range(1, NUM_EPOCHS + 1):\n",
    "    train(epoch)\n",
    "    scheduler.step()"
   ]
  },
  {
   "cell_type": "markdown",
   "metadata": {},
   "source": [
    "## Results "
   ]
  },
  {
   "cell_type": "code",
   "execution_count": 14,
   "metadata": {},
   "outputs": [
    {
     "data": {
      "image/png": "[encoded data removed]",
      "text/plain": [
       "<Figure size 936x360 with 2 Axes>"
      ]
     },
     "metadata": {
      "needs_background": "light"
     },
     "output_type": "display_data"
    }
   ],
   "source": [
    "plt.figure(figsize=(13,5))\n",
    "plt.subplot(1,2,1)\n",
    "plt.xlabel('Epoch')\n",
    "plt.ylabel('Loss')\n",
    "plt.plot(range(NUM_EPOCHS), losses['train'], label=\"train_loss\")\n",
    "plt.plot(range(NUM_EPOCHS), losses['valid'], label=\"valid_loss\")\n",
    "plt.legend()\n",
    "plt.subplot(1,2,2)\n",
    "plt.xlabel('Epoch')\n",
    "plt.ylabel('Accuracy')\n",
    "plt.plot(range(NUM_EPOCHS), accuracies['train'], label=\"train_accuracy\")\n",
    "plt.plot(range(NUM_EPOCHS), accuracies['valid'], label=\"valid_accuracy\")\n",
    "plt.legend()\n",
    "plt.show()"
   ]
  },
  {
   "cell_type": "code",
   "execution_count": 9,
   "metadata": {},
   "outputs": [],
   "source": [
    "def get_all_preds(model, loader):\n",
    "    all_preds = torch.tensor([]).to(device)\n",
    "    for inputs, labels in loader:\n",
    "        inputs, labels = inputs.to(device), labels.to(device)\n",
    "        preds = model(inputs)\n",
    "        all_preds = torch.cat((all_preds, preds), dim=0)\n",
    "    return all_preds"
   ]
  },
  {
   "cell_type": "code",
   "execution_count": 13,
   "metadata": {},
   "outputs": [
    {
     "name": "stderr",
     "output_type": "stream",
     "text": [
      "/home/batselem/anaconda3/envs/kaggle/lib/python3.9/site-packages/torch/nn/modules/module.py:1130: UserWarning: RNN module weights are not part of single contiguous chunk of memory. This means they need to be compacted at every call, possibly greatly increasing memory usage. To compact weights again call flatten_parameters(). (Triggered internally at  /opt/conda/conda-bld/pytorch_1656352660876/work/aten/src/ATen/native/cudnn/RNN.cpp:968.)\n",
      "  return forward_call(*input, **kwargs)\n"
     ]
    }
   ],
   "source": [
    "model.eval()\n",
    "with torch.no_grad():\n",
    "    train_preds = get_all_preds(model, valid_loader)\n",
    "\n",
    "train_preds = train_preds.argmax(1)\n",
    "train_preds = train_preds.cpu().detach().numpy()"
   ]
  },
  {
   "cell_type": "code",
   "execution_count": 16,
   "metadata": {},
   "outputs": [
    {
     "data": {
      "image/png": "[encoded data removed]",
      "text/plain": [
       "<Figure size 432x288 with 2 Axes>"
      ]
     },
     "metadata": {
      "needs_background": "light"
     },
     "output_type": "display_data"
    }
   ],
   "source": [
    "from sklearn import metrics\n",
    "\n",
    "cm = metrics.confusion_matrix(y_test, train_preds)\n",
    "cm_display = metrics.ConfusionMatrixDisplay(cm, display_labels = LABELS)\n",
    "cm_display.plot(xticks_rotation='vertical')\n",
    "plt.show()"
   ]
  },
  {
   "cell_type": "markdown",
   "metadata": {},
   "source": [
    "## Export model "
   ]
  },
  {
   "cell_type": "code",
   "execution_count": 18,
   "metadata": {},
   "outputs": [
    {
     "name": "stderr",
     "output_type": "stream",
     "text": [
      "/home/batselem/anaconda3/envs/kaggle/lib/python3.9/site-packages/torch/onnx/symbolic_opset9.py:3220: UserWarning: Exporting a model to ONNX with a batch_size other than 1, with a variable length with LSTM can cause an error when running the ONNX model with a different batch size. Make sure to save the model with a batch size of 1, or define the initial states (h0/c0) as inputs of the model. \n",
      "  warnings.warn(\n",
      "WARNING: The shape inference of prim::Constant type is missing, so it may result in wrong shape inference for the exported graph. Please consider adding it in symbolic function.\n",
      "WARNING: The shape inference of prim::Constant type is missing, so it may result in wrong shape inference for the exported graph. Please consider adding it in symbolic function.\n",
      "WARNING: The shape inference of prim::Constant type is missing, so it may result in wrong shape inference for the exported graph. Please consider adding it in symbolic function.\n"
     ]
    }
   ],
   "source": [
    "sample_input = torch.rand(1, SEQ_LEN, NUM_JOINTS)\n",
    "\n",
    "# Export to ONNX\n",
    "torch.onnx.export(model.to('cpu'), sample_input, \"action_lstm.onnx\") "
   ]
  },
  {
   "cell_type": "code",
   "execution_count": 22,
   "metadata": {},
   "outputs": [],
   "source": [
    "# Export to TorchScript\n",
    "model_scripted = torch.jit.script(model.to('cpu')) \n",
    "model_scripted.save('action_lstm.pt') # Save"
   ]
  },
  {
   "cell_type": "markdown",
   "metadata": {},
   "source": [
    "## Load model "
   ]
  },
  {
   "cell_type": "code",
   "execution_count": 12,
   "metadata": {},
   "outputs": [
    {
     "data": {
      "text/plain": [
       "RecursiveScriptModule(\n",
       "  original_name=Net\n",
       "  (lstm): RecursiveScriptModule(original_name=LSTM)\n",
       "  (fc): RecursiveScriptModule(original_name=Linear)\n",
       "  (bn): RecursiveScriptModule(original_name=BatchNorm1d)\n",
       ")"
      ]
     },
     "execution_count": 12,
     "metadata": {},
     "output_type": "execute_result"
    }
   ],
   "source": [
    "model = torch.jit.load('action_lstm.pt').to(device)\n",
    "model.eval()"
   ]
  },
  {
   "cell_type": "code",
   "execution_count": null,
   "metadata": {},
   "outputs": [],
   "source": []
  }
 ],
 "metadata": {
  "hide_input": false,
  "kernelspec": {
   "display_name": "Python 3 (ipykernel)",
   "language": "python",
   "name": "python3"
  },
  "language_info": {
   "codemirror_mode": {
    "name": "ipython",
    "version": 3
   },
   "file_extension": ".py",
   "mimetype": "text/x-python",
   "name": "python",
   "nbconvert_exporter": "python",
   "pygments_lexer": "ipython3",
   "version": "3.9.12"
  }
 },
 "nbformat": 4,
 "nbformat_minor": 2
}
