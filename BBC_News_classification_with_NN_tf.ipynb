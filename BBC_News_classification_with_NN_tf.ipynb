{
 "cells": [
  {
   "cell_type": "markdown",
   "id": "stopped-scale",
   "metadata": {},
   "source": [
    "# BBC News Classification (TF)\n",
    "\n",
    "We will implement a news classification based on [BBC News Classification Dataset](https://www.kaggle.com/c/learn-ai-bbc/overview), which contains 2225 examples of news articles with their respective labels. "
   ]
  },
  {
   "cell_type": "code",
   "execution_count": 1,
   "id": "magnetic-rebate",
   "metadata": {
    "id": "gnwiOnGyW5JK",
    "tags": [
     "graded"
    ]
   },
   "outputs": [],
   "source": [
    "import os\n",
    "import io\n",
    "import csv\n",
    "import pandas as pd\n",
    "import tensorflow as tf\n",
    "import numpy as np\n",
    "from tensorflow.keras.preprocessing.text import Tokenizer\n",
    "from tensorflow.keras.preprocessing.sequence import pad_sequences\n",
    "import matplotlib.pyplot as plt\n",
    "from sklearn.model_selection import train_test_split"
   ]
  },
  {
   "cell_type": "code",
   "execution_count": 2,
   "id": "79acd69d",
   "metadata": {},
   "outputs": [],
   "source": [
    "TRAIN_PATH = os.path.join(\"../datasets/bbc-news\", \"BBC News Train.csv\")\n",
    "TEST_PATH = os.path.join(\"../datasets/bbc-news\", \"BBC News Test.csv\")"
   ]
  },
  {
   "cell_type": "code",
   "execution_count": 3,
   "id": "6d74fbcf",
   "metadata": {},
   "outputs": [
    {
     "data": {
      "text/html": [
       "<div>\n",
       "<style scoped>\n",
       "    .dataframe tbody tr th:only-of-type {\n",
       "        vertical-align: middle;\n",
       "    }\n",
       "\n",
       "    .dataframe tbody tr th {\n",
       "        vertical-align: top;\n",
       "    }\n",
       "\n",
       "    .dataframe thead th {\n",
       "        text-align: right;\n",
       "    }\n",
       "</style>\n",
       "<table border=\"1\" class=\"dataframe\">\n",
       "  <thead>\n",
       "    <tr style=\"text-align: right;\">\n",
       "      <th></th>\n",
       "      <th>ArticleId</th>\n",
       "      <th>Text</th>\n",
       "      <th>Category</th>\n",
       "    </tr>\n",
       "  </thead>\n",
       "  <tbody>\n",
       "    <tr>\n",
       "      <th>0</th>\n",
       "      <td>1833</td>\n",
       "      <td>worldcom ex-boss launches defence lawyers defe...</td>\n",
       "      <td>business</td>\n",
       "    </tr>\n",
       "    <tr>\n",
       "      <th>1</th>\n",
       "      <td>154</td>\n",
       "      <td>german business confidence slides german busin...</td>\n",
       "      <td>business</td>\n",
       "    </tr>\n",
       "    <tr>\n",
       "      <th>2</th>\n",
       "      <td>1101</td>\n",
       "      <td>bbc poll indicates economic gloom citizens in ...</td>\n",
       "      <td>business</td>\n",
       "    </tr>\n",
       "    <tr>\n",
       "      <th>3</th>\n",
       "      <td>1976</td>\n",
       "      <td>lifestyle  governs mobile choice  faster  bett...</td>\n",
       "      <td>tech</td>\n",
       "    </tr>\n",
       "    <tr>\n",
       "      <th>4</th>\n",
       "      <td>917</td>\n",
       "      <td>enron bosses in $168m payout eighteen former e...</td>\n",
       "      <td>business</td>\n",
       "    </tr>\n",
       "  </tbody>\n",
       "</table>\n",
       "</div>"
      ],
      "text/plain": [
       "   ArticleId                                               Text  Category\n",
       "0       1833  worldcom ex-boss launches defence lawyers defe...  business\n",
       "1        154  german business confidence slides german busin...  business\n",
       "2       1101  bbc poll indicates economic gloom citizens in ...  business\n",
       "3       1976  lifestyle  governs mobile choice  faster  bett...      tech\n",
       "4        917  enron bosses in $168m payout eighteen former e...  business"
      ]
     },
     "execution_count": 3,
     "metadata": {},
     "output_type": "execute_result"
    }
   ],
   "source": [
    "df = pd.read_csv(TRAIN_PATH)\n",
    "df.head()"
   ]
  },
  {
   "cell_type": "code",
   "execution_count": 4,
   "id": "8724e949",
   "metadata": {},
   "outputs": [
    {
     "data": {
      "text/plain": [
       "Text(0, 0.5, 'Examples')"
      ]
     },
     "execution_count": 4,
     "metadata": {},
     "output_type": "execute_result"
    },
    {
     "data": {
      "image/png": "[encoded data removed]",
      "text/plain": [
       "<Figure size 432x288 with 1 Axes>"
      ]
     },
     "metadata": {
      "needs_background": "light"
     },
     "output_type": "display_data"
    }
   ],
   "source": [
    "df.Category.value_counts().sort_values().plot(kind = 'bar')\n",
    "plt.title(\"BBC News dataset\")\n",
    "plt.xlabel(\"Category\")\n",
    "plt.ylabel(\"Examples\")"
   ]
  },
  {
   "cell_type": "markdown",
   "id": "balanced-settle",
   "metadata": {},
   "source": [
    "## Defining useful global variables\n",
    "\n",
    "- `NUM_WORDS`: The maximum number of words to keep, based on word frequency. Defaults to 1000.\n",
    "\n",
    "\n",
    "- `EMBEDDING_DIM`: Dimension of the dense embedding, will be used in the embedding layer of the model. Defaults to 16.\n",
    "\n",
    "\n",
    "- `MAXLEN`: Maximum length of all sequences. Defaults to 120.\n",
    "\n",
    "\n",
    "- `PADDING`: Padding strategy (pad either before or after each sequence.). Defaults to 'post'.\n",
    "\n",
    "\n",
    "- `OOV_TOKEN`: Token to replace out-of-vocabulary words during text_to_sequence calls. Defaults to \"\\<OOV>\".\n",
    "\n",
    "    \n",
    "- `TRAINING_SPLIT`: Proportion of data used for training. Defaults to 0.8"
   ]
  },
  {
   "cell_type": "code",
   "execution_count": 5,
   "id": "quantitative-mauritius",
   "metadata": {
    "tags": [
     "graded"
    ]
   },
   "outputs": [],
   "source": [
    "NUM_WORDS = 1000\n",
    "EMBEDDING_DIM = 32\n",
    "MAXLEN = 120\n",
    "PADDING = 'post'\n",
    "OOV_TOKEN = \"<OOV>\"\n",
    "TRAINING_SPLIT = .8"
   ]
  },
  {
   "cell_type": "markdown",
   "id": "synthetic-beijing",
   "metadata": {},
   "source": [
    "## Loading and pre-processing the data\n",
    "\n",
    "Remove stopwords from text and to load the data from a csv file."
   ]
  },
  {
   "cell_type": "code",
   "execution_count": 6,
   "id": "flying-lincoln",
   "metadata": {
    "tags": [
     "graded"
    ]
   },
   "outputs": [],
   "source": [
    "def remove_stopwords(sentence):\n",
    "    \"\"\"\n",
    "    Removes a list of stopwords\n",
    "    \n",
    "    Args:\n",
    "        sentence (string): sentence to remove the stopwords from\n",
    "    \n",
    "    Returns:\n",
    "        sentence (string): lowercase sentence without the stopwords\n",
    "    \"\"\"\n",
    "    # List of stopwords\n",
    "    stopwords = [\"a\", \"about\", \"above\", \"after\", \"again\", \"against\", \"all\", \"am\", \"an\", \"and\", \"any\", \"are\", \"as\", \"at\", \"be\", \"because\", \"been\", \"before\", \"being\", \"below\", \"between\", \"both\", \"but\", \"by\", \"could\", \"did\", \"do\", \"does\", \"doing\", \"down\", \"during\", \"each\", \"few\", \"for\", \"from\", \"further\", \"had\", \"has\", \"have\", \"having\", \"he\", \"he'd\", \"he'll\", \"he's\", \"her\", \"here\", \"here's\", \"hers\", \"herself\", \"him\", \"himself\", \"his\", \"how\", \"how's\", \"i\", \"i'd\", \"i'll\", \"i'm\", \"i've\", \"if\", \"in\", \"into\", \"is\", \"it\", \"it's\", \"its\", \"itself\", \"let's\", \"me\", \"more\", \"most\", \"my\", \"myself\", \"nor\", \"of\", \"on\", \"once\", \"only\", \"or\", \"other\", \"ought\", \"our\", \"ours\", \"ourselves\", \"out\", \"over\", \"own\", \"same\", \"she\", \"she'd\", \"she'll\", \"she's\", \"should\", \"so\", \"some\", \"such\", \"than\", \"that\", \"that's\", \"the\", \"their\", \"theirs\", \"them\", \"themselves\", \"then\", \"there\", \"there's\", \"these\", \"they\", \"they'd\", \"they'll\", \"they're\", \"they've\", \"this\", \"those\", \"through\", \"to\", \"too\", \"under\", \"until\", \"up\", \"very\", \"was\", \"we\", \"we'd\", \"we'll\", \"we're\", \"we've\", \"were\", \"what\", \"what's\", \"when\", \"when's\", \"where\", \"where's\", \"which\", \"while\", \"who\", \"who's\", \"whom\", \"why\", \"why's\", \"with\", \"would\", \"you\", \"you'd\", \"you'll\", \"you're\", \"you've\", \"your\", \"yours\", \"yourself\", \"yourselves\" ]\n",
    "    \n",
    "    # Sentence converted to lowercase-only\n",
    "    sentence = sentence.lower()\n",
    "\n",
    "    words = sentence.split()\n",
    "    no_words = [w for w in words if w not in stopwords]\n",
    "    sentence = \" \".join(no_words)\n",
    "\n",
    "    return sentence"
   ]
  },
  {
   "cell_type": "code",
   "execution_count": 7,
   "id": "1284693a",
   "metadata": {},
   "outputs": [],
   "source": [
    "df['Text'] = df['Text'].map(lambda sentence: remove_stopwords(sentence))"
   ]
  },
  {
   "cell_type": "markdown",
   "id": "polished-eagle",
   "metadata": {},
   "source": [
    "## Training - Validation Split"
   ]
  },
  {
   "cell_type": "code",
   "execution_count": 8,
   "id": "218b9351",
   "metadata": {},
   "outputs": [],
   "source": [
    "train_sentences, val_sentences, train_labels, val_labels = \\\n",
    "    train_test_split(df['Text'], df['Category'], test_size=1 - TRAINING_SPLIT, random_state=1)"
   ]
  },
  {
   "cell_type": "markdown",
   "id": "crude-mozambique",
   "metadata": {},
   "source": [
    "## Tokenization - Sequences and padding"
   ]
  },
  {
   "cell_type": "code",
   "execution_count": 9,
   "id": "recreational-prince",
   "metadata": {
    "lines_to_next_cell": 2,
    "tags": [
     "graded"
    ]
   },
   "outputs": [],
   "source": [
    "def fit_tokenizer(train_sentences, num_words, oov_token):\n",
    "    \n",
    "    tokenizer = Tokenizer(num_words=num_words, oov_token=oov_token)\n",
    "    tokenizer.fit_on_texts(train_sentences)\n",
    "    \n",
    "    return tokenizer"
   ]
  },
  {
   "cell_type": "code",
   "execution_count": 10,
   "id": "great-trading",
   "metadata": {
    "tags": [
     "graded"
    ]
   },
   "outputs": [
    {
     "name": "stdout",
     "output_type": "stream",
     "text": [
      "Vocabulary contains 22651 words\n",
      "\n"
     ]
    }
   ],
   "source": [
    "tokenizer = fit_tokenizer(train_sentences, NUM_WORDS, OOV_TOKEN)\n",
    "word_index = tokenizer.word_index\n",
    "\n",
    "print(f\"Vocabulary contains {len(word_index)} words\\n\")"
   ]
  },
  {
   "cell_type": "code",
   "execution_count": 11,
   "id": "fourth-knight",
   "metadata": {
    "tags": [
     "graded"
    ]
   },
   "outputs": [],
   "source": [
    "def seq_and_pad(sentences, tokenizer, padding, maxlen):\n",
    "\n",
    "    sequences = tokenizer.texts_to_sequences(sentences)\n",
    "    padded_sequences = pad_sequences(sequences, maxlen=maxlen, padding=padding)\n",
    "    \n",
    "    return padded_sequences"
   ]
  },
  {
   "cell_type": "code",
   "execution_count": 12,
   "id": "separate-onion",
   "metadata": {
    "tags": [
     "graded"
    ]
   },
   "outputs": [],
   "source": [
    "train_padded_seq = seq_and_pad(train_sentences, tokenizer, PADDING, MAXLEN)\n",
    "val_padded_seq = seq_and_pad(val_sentences, tokenizer, PADDING, MAXLEN)"
   ]
  },
  {
   "cell_type": "code",
   "execution_count": 74,
   "id": "active-objective",
   "metadata": {
    "id": "XkWiQ_FKZNp2",
    "lines_to_next_cell": 2,
    "tags": [
     "graded"
    ]
   },
   "outputs": [],
   "source": [
    "def tokenize_labels(label_tokenizer, split_labels):\n",
    "    \"\"\"\n",
    "    Tokenizes the labels\n",
    "    \n",
    "    Args:\n",
    "        all_labels (list of string): labels to generate the word-index from\n",
    "        split_labels (list of string): labels to tokenize\n",
    "    \n",
    "    Returns:\n",
    "        label_seq_np (array of int): tokenized labels\n",
    "    \"\"\"\n",
    "    \n",
    "    # Convert labels to sequences\n",
    "    label_seq = label_tokenizer.texts_to_sequences(split_labels)\n",
    "    \n",
    "    # Convert sequences to a numpy array.\n",
    "    label_seq_np = np.array(label_seq) - 1\n",
    "    \n",
    "    return label_seq_np"
   ]
  },
  {
   "cell_type": "code",
   "execution_count": 76,
   "id": "numerical-certificate",
   "metadata": {
    "tags": [
     "graded"
    ]
   },
   "outputs": [],
   "source": [
    "label_tokenizer = Tokenizer()\n",
    "# Fit the tokenizer on all the labels\n",
    "label_tokenizer.fit_on_texts(df['Category'])  \n",
    "   \n",
    "\n",
    "train_label_seq = tokenize_labels(label_tokenizer, train_labels)\n",
    "val_label_seq = tokenize_labels(label_tokenizer, val_labels)"
   ]
  },
  {
   "cell_type": "markdown",
   "id": "37713052",
   "metadata": {},
   "source": [
    "## Training the model for text classification\n"
   ]
  },
  {
   "cell_type": "code",
   "execution_count": 68,
   "id": "little-bahrain",
   "metadata": {
    "id": "HZ5um4MWZP-W",
    "tags": [
     "graded"
    ]
   },
   "outputs": [],
   "source": [
    "def create_model(num_words, embedding_dim, maxlen):\n",
    "    \n",
    "    tf.random.set_seed(123)\n",
    "       \n",
    "    model = tf.keras.Sequential([ \n",
    "        tf.keras.layers.Embedding(num_words, embedding_dim, input_length=maxlen),\n",
    "        tf.keras.layers.Dropout(0.3),\n",
    "        tf.keras.layers.GlobalAveragePooling1D(),\n",
    "        tf.keras.layers.Dropout(0.3),                 \n",
    "        tf.keras.layers.Dense(24, activation='relu'),\n",
    "        tf.keras.layers.Dropout(0.3), \n",
    "        tf.keras.layers.Dense(5, activation='softmax')\n",
    "    ])\n",
    "    \n",
    "    model.compile(loss='sparse_categorical_crossentropy',\n",
    "                  optimizer='adam',\n",
    "                  metrics=['accuracy']) \n",
    "\n",
    "    return model"
   ]
  },
  {
   "cell_type": "code",
   "execution_count": 59,
   "id": "6a06c6d0",
   "metadata": {},
   "outputs": [
    {
     "name": "stdout",
     "output_type": "stream",
     "text": [
      "Model: \"sequential_1\"\n",
      "_________________________________________________________________\n",
      " Layer (type)                Output Shape              Param #   \n",
      "=================================================================\n",
      " embedding_1 (Embedding)     (None, 120, 32)           32000     \n",
      "                                                                 \n",
      " dropout_3 (Dropout)         (None, 120, 32)           0         \n",
      "                                                                 \n",
      " global_average_pooling1d_1   (None, 32)               0         \n",
      " (GlobalAveragePooling1D)                                        \n",
      "                                                                 \n",
      " dropout_4 (Dropout)         (None, 32)                0         \n",
      "                                                                 \n",
      " dense_2 (Dense)             (None, 24)                792       \n",
      "                                                                 \n",
      " dropout_5 (Dropout)         (None, 24)                0         \n",
      "                                                                 \n",
      " dense_3 (Dense)             (None, 5)                 125       \n",
      "                                                                 \n",
      "=================================================================\n",
      "Total params: 32,917\n",
      "Trainable params: 32,917\n",
      "Non-trainable params: 0\n",
      "_________________________________________________________________\n"
     ]
    }
   ],
   "source": [
    "model = create_model(NUM_WORDS, EMBEDDING_DIM, MAXLEN)\n",
    "model.summary()"
   ]
  },
  {
   "cell_type": "code",
   "execution_count": 60,
   "id": "resident-productivity",
   "metadata": {
    "scrolled": true,
    "tags": []
   },
   "outputs": [
    {
     "name": "stdout",
     "output_type": "stream",
     "text": [
      "Epoch 1/100\n",
      "38/38 [==============================] - 0s 4ms/step - loss: 1.6032 - accuracy: 0.2651 - val_loss: 1.5969 - val_accuracy: 0.3087\n",
      "Epoch 2/100\n",
      "38/38 [==============================] - 0s 2ms/step - loss: 1.5829 - accuracy: 0.3607 - val_loss: 1.5704 - val_accuracy: 0.4228\n",
      "Epoch 3/100\n",
      "38/38 [==============================] - 0s 2ms/step - loss: 1.5403 - accuracy: 0.4396 - val_loss: 1.5210 - val_accuracy: 0.4497\n",
      "Epoch 4/100\n",
      "38/38 [==============================] - 0s 2ms/step - loss: 1.4703 - accuracy: 0.4958 - val_loss: 1.4304 - val_accuracy: 0.5067\n",
      "Epoch 5/100\n",
      "38/38 [==============================] - 0s 3ms/step - loss: 1.3509 - accuracy: 0.5747 - val_loss: 1.2994 - val_accuracy: 0.5638\n",
      "Epoch 6/100\n",
      "38/38 [==============================] - 0s 3ms/step - loss: 1.2115 - accuracy: 0.6275 - val_loss: 1.1447 - val_accuracy: 0.6275\n",
      "Epoch 7/100\n",
      "38/38 [==============================] - 0s 3ms/step - loss: 1.0531 - accuracy: 0.6837 - val_loss: 0.9929 - val_accuracy: 0.7282\n",
      "Epoch 8/100\n",
      "38/38 [==============================] - 0s 2ms/step - loss: 0.8917 - accuracy: 0.7836 - val_loss: 0.8506 - val_accuracy: 0.8289\n",
      "Epoch 9/100\n",
      "38/38 [==============================] - 0s 2ms/step - loss: 0.7883 - accuracy: 0.8205 - val_loss: 0.7276 - val_accuracy: 0.8691\n",
      "Epoch 10/100\n",
      "38/38 [==============================] - 0s 2ms/step - loss: 0.6882 - accuracy: 0.8398 - val_loss: 0.6256 - val_accuracy: 0.9094\n",
      "Epoch 11/100\n",
      "38/38 [==============================] - 0s 2ms/step - loss: 0.5904 - accuracy: 0.8725 - val_loss: 0.5443 - val_accuracy: 0.9161\n",
      "Epoch 12/100\n",
      "38/38 [==============================] - 0s 2ms/step - loss: 0.5151 - accuracy: 0.8951 - val_loss: 0.4790 - val_accuracy: 0.9195\n",
      "Epoch 13/100\n",
      "38/38 [==============================] - 0s 2ms/step - loss: 0.4628 - accuracy: 0.8968 - val_loss: 0.4288 - val_accuracy: 0.9262\n",
      "Epoch 14/100\n",
      "38/38 [==============================] - 0s 2ms/step - loss: 0.4178 - accuracy: 0.9027 - val_loss: 0.3828 - val_accuracy: 0.9295\n",
      "Epoch 15/100\n",
      "38/38 [==============================] - 0s 2ms/step - loss: 0.3623 - accuracy: 0.9144 - val_loss: 0.3510 - val_accuracy: 0.9295\n",
      "Epoch 16/100\n",
      "38/38 [==============================] - 0s 3ms/step - loss: 0.3170 - accuracy: 0.9362 - val_loss: 0.3205 - val_accuracy: 0.9396\n",
      "Epoch 17/100\n",
      "38/38 [==============================] - 0s 2ms/step - loss: 0.2890 - accuracy: 0.9371 - val_loss: 0.2995 - val_accuracy: 0.9430\n",
      "Epoch 18/100\n",
      "38/38 [==============================] - 0s 2ms/step - loss: 0.2714 - accuracy: 0.9413 - val_loss: 0.2819 - val_accuracy: 0.9463\n",
      "Epoch 19/100\n",
      "38/38 [==============================] - 0s 2ms/step - loss: 0.2564 - accuracy: 0.9455 - val_loss: 0.2695 - val_accuracy: 0.9463\n",
      "Epoch 20/100\n",
      "38/38 [==============================] - 0s 2ms/step - loss: 0.2267 - accuracy: 0.9530 - val_loss: 0.2558 - val_accuracy: 0.9430\n",
      "Epoch 21/100\n",
      "38/38 [==============================] - 0s 3ms/step - loss: 0.2195 - accuracy: 0.9471 - val_loss: 0.2441 - val_accuracy: 0.9463\n",
      "Epoch 22/100\n",
      "38/38 [==============================] - 0s 3ms/step - loss: 0.1942 - accuracy: 0.9631 - val_loss: 0.2369 - val_accuracy: 0.9497\n",
      "Epoch 23/100\n",
      "38/38 [==============================] - 0s 3ms/step - loss: 0.1815 - accuracy: 0.9589 - val_loss: 0.2320 - val_accuracy: 0.9396\n",
      "Epoch 24/100\n",
      "38/38 [==============================] - 0s 3ms/step - loss: 0.1727 - accuracy: 0.9597 - val_loss: 0.2236 - val_accuracy: 0.9463\n",
      "Epoch 25/100\n",
      "38/38 [==============================] - 0s 2ms/step - loss: 0.1612 - accuracy: 0.9698 - val_loss: 0.2202 - val_accuracy: 0.9497\n",
      "Epoch 26/100\n",
      "38/38 [==============================] - 0s 2ms/step - loss: 0.1450 - accuracy: 0.9698 - val_loss: 0.2166 - val_accuracy: 0.9463\n",
      "Epoch 27/100\n",
      "38/38 [==============================] - 0s 2ms/step - loss: 0.1478 - accuracy: 0.9698 - val_loss: 0.2111 - val_accuracy: 0.9497\n",
      "Epoch 28/100\n",
      "38/38 [==============================] - 0s 2ms/step - loss: 0.1285 - accuracy: 0.9748 - val_loss: 0.2083 - val_accuracy: 0.9497\n",
      "Epoch 29/100\n",
      "38/38 [==============================] - 0s 2ms/step - loss: 0.1184 - accuracy: 0.9773 - val_loss: 0.2052 - val_accuracy: 0.9463\n",
      "Epoch 30/100\n",
      "38/38 [==============================] - 0s 2ms/step - loss: 0.1099 - accuracy: 0.9807 - val_loss: 0.2040 - val_accuracy: 0.9497\n",
      "Epoch 31/100\n",
      "38/38 [==============================] - 0s 2ms/step - loss: 0.1197 - accuracy: 0.9824 - val_loss: 0.2008 - val_accuracy: 0.9497\n",
      "Epoch 32/100\n",
      "38/38 [==============================] - 0s 2ms/step - loss: 0.1186 - accuracy: 0.9790 - val_loss: 0.1994 - val_accuracy: 0.9497\n",
      "Epoch 33/100\n",
      "38/38 [==============================] - 0s 2ms/step - loss: 0.1051 - accuracy: 0.9832 - val_loss: 0.2002 - val_accuracy: 0.9463\n",
      "Epoch 34/100\n",
      "38/38 [==============================] - 0s 3ms/step - loss: 0.1010 - accuracy: 0.9807 - val_loss: 0.1981 - val_accuracy: 0.9497\n",
      "Epoch 35/100\n",
      "38/38 [==============================] - 0s 2ms/step - loss: 0.0912 - accuracy: 0.9841 - val_loss: 0.1961 - val_accuracy: 0.9463\n",
      "Epoch 36/100\n",
      "38/38 [==============================] - 0s 2ms/step - loss: 0.0838 - accuracy: 0.9841 - val_loss: 0.1942 - val_accuracy: 0.9497\n",
      "Epoch 37/100\n",
      "38/38 [==============================] - 0s 2ms/step - loss: 0.0789 - accuracy: 0.9866 - val_loss: 0.1955 - val_accuracy: 0.9463\n",
      "Epoch 38/100\n",
      "38/38 [==============================] - 0s 2ms/step - loss: 0.0708 - accuracy: 0.9883 - val_loss: 0.1928 - val_accuracy: 0.9463\n",
      "Epoch 39/100\n",
      "38/38 [==============================] - 0s 2ms/step - loss: 0.0748 - accuracy: 0.9866 - val_loss: 0.1972 - val_accuracy: 0.9430\n",
      "Epoch 40/100\n",
      "38/38 [==============================] - 0s 2ms/step - loss: 0.0610 - accuracy: 0.9958 - val_loss: 0.1948 - val_accuracy: 0.9430\n",
      "Epoch 41/100\n",
      "38/38 [==============================] - 0s 2ms/step - loss: 0.0698 - accuracy: 0.9891 - val_loss: 0.1937 - val_accuracy: 0.9463\n",
      "Epoch 42/100\n",
      "38/38 [==============================] - 0s 2ms/step - loss: 0.0596 - accuracy: 0.9883 - val_loss: 0.1947 - val_accuracy: 0.9430\n",
      "Epoch 43/100\n",
      "38/38 [==============================] - 0s 2ms/step - loss: 0.0619 - accuracy: 0.9916 - val_loss: 0.1965 - val_accuracy: 0.9430\n",
      "Epoch 44/100\n",
      "38/38 [==============================] - 0s 2ms/step - loss: 0.0553 - accuracy: 0.9916 - val_loss: 0.1950 - val_accuracy: 0.9396\n",
      "Epoch 45/100\n",
      "38/38 [==============================] - 0s 2ms/step - loss: 0.0510 - accuracy: 0.9933 - val_loss: 0.1964 - val_accuracy: 0.9463\n",
      "Epoch 46/100\n",
      "38/38 [==============================] - 0s 2ms/step - loss: 0.0503 - accuracy: 0.9958 - val_loss: 0.1942 - val_accuracy: 0.9463\n",
      "Epoch 47/100\n",
      "38/38 [==============================] - 0s 2ms/step - loss: 0.0406 - accuracy: 0.9958 - val_loss: 0.1969 - val_accuracy: 0.9430\n",
      "Epoch 48/100\n",
      "38/38 [==============================] - 0s 2ms/step - loss: 0.0433 - accuracy: 0.9950 - val_loss: 0.1973 - val_accuracy: 0.9430\n",
      "Epoch 49/100\n",
      "38/38 [==============================] - 0s 2ms/step - loss: 0.0461 - accuracy: 0.9908 - val_loss: 0.1969 - val_accuracy: 0.9463\n",
      "Epoch 50/100\n",
      "38/38 [==============================] - 0s 2ms/step - loss: 0.0411 - accuracy: 0.9933 - val_loss: 0.1976 - val_accuracy: 0.9430\n",
      "Epoch 51/100\n",
      "38/38 [==============================] - 0s 2ms/step - loss: 0.0483 - accuracy: 0.9924 - val_loss: 0.1996 - val_accuracy: 0.9430\n",
      "Epoch 52/100\n",
      "38/38 [==============================] - 0s 2ms/step - loss: 0.0443 - accuracy: 0.9908 - val_loss: 0.2000 - val_accuracy: 0.9430\n",
      "Epoch 53/100\n",
      "38/38 [==============================] - 0s 2ms/step - loss: 0.0385 - accuracy: 0.9958 - val_loss: 0.2023 - val_accuracy: 0.9430\n",
      "Epoch 54/100\n",
      "38/38 [==============================] - 0s 2ms/step - loss: 0.0412 - accuracy: 0.9966 - val_loss: 0.2052 - val_accuracy: 0.9396\n",
      "Epoch 55/100\n",
      "38/38 [==============================] - 0s 2ms/step - loss: 0.0361 - accuracy: 0.9950 - val_loss: 0.2013 - val_accuracy: 0.9430\n",
      "Epoch 56/100\n",
      "38/38 [==============================] - 0s 2ms/step - loss: 0.0307 - accuracy: 0.9992 - val_loss: 0.2042 - val_accuracy: 0.9430\n",
      "Epoch 57/100\n",
      "38/38 [==============================] - 0s 2ms/step - loss: 0.0365 - accuracy: 0.9916 - val_loss: 0.2046 - val_accuracy: 0.9430\n",
      "Epoch 58/100\n",
      "38/38 [==============================] - 0s 2ms/step - loss: 0.0365 - accuracy: 0.9975 - val_loss: 0.2032 - val_accuracy: 0.9430\n"
     ]
    },
    {
     "name": "stdout",
     "output_type": "stream",
     "text": [
      "Epoch 59/100\n",
      "38/38 [==============================] - 0s 2ms/step - loss: 0.0333 - accuracy: 0.9966 - val_loss: 0.2059 - val_accuracy: 0.9430\n",
      "Epoch 60/100\n",
      "38/38 [==============================] - 0s 2ms/step - loss: 0.0339 - accuracy: 0.9916 - val_loss: 0.2100 - val_accuracy: 0.9396\n",
      "Epoch 61/100\n",
      "38/38 [==============================] - 0s 2ms/step - loss: 0.0350 - accuracy: 0.9933 - val_loss: 0.2076 - val_accuracy: 0.9396\n",
      "Epoch 62/100\n",
      "38/38 [==============================] - 0s 2ms/step - loss: 0.0332 - accuracy: 0.9950 - val_loss: 0.2083 - val_accuracy: 0.9430\n",
      "Epoch 63/100\n",
      "38/38 [==============================] - 0s 2ms/step - loss: 0.0330 - accuracy: 0.9941 - val_loss: 0.2116 - val_accuracy: 0.9396\n",
      "Epoch 64/100\n",
      "38/38 [==============================] - 0s 2ms/step - loss: 0.0305 - accuracy: 0.9933 - val_loss: 0.2105 - val_accuracy: 0.9430\n",
      "Epoch 65/100\n",
      "38/38 [==============================] - 0s 2ms/step - loss: 0.0256 - accuracy: 0.9966 - val_loss: 0.2136 - val_accuracy: 0.9430\n",
      "Epoch 66/100\n",
      "38/38 [==============================] - 0s 2ms/step - loss: 0.0246 - accuracy: 0.9975 - val_loss: 0.2122 - val_accuracy: 0.9396\n",
      "Epoch 67/100\n",
      "38/38 [==============================] - 0s 2ms/step - loss: 0.0291 - accuracy: 0.9941 - val_loss: 0.2194 - val_accuracy: 0.9396\n",
      "Epoch 68/100\n",
      "38/38 [==============================] - 0s 2ms/step - loss: 0.0312 - accuracy: 0.9950 - val_loss: 0.2154 - val_accuracy: 0.9396\n",
      "Epoch 69/100\n",
      "38/38 [==============================] - 0s 2ms/step - loss: 0.0228 - accuracy: 0.9975 - val_loss: 0.2156 - val_accuracy: 0.9430\n",
      "Epoch 70/100\n",
      "38/38 [==============================] - 0s 2ms/step - loss: 0.0251 - accuracy: 0.9975 - val_loss: 0.2186 - val_accuracy: 0.9430\n",
      "Epoch 71/100\n",
      "38/38 [==============================] - 0s 2ms/step - loss: 0.0233 - accuracy: 0.9975 - val_loss: 0.2230 - val_accuracy: 0.9430\n",
      "Epoch 72/100\n",
      "38/38 [==============================] - 0s 2ms/step - loss: 0.0207 - accuracy: 0.9950 - val_loss: 0.2197 - val_accuracy: 0.9396\n",
      "Epoch 73/100\n",
      "38/38 [==============================] - 0s 2ms/step - loss: 0.0259 - accuracy: 0.9958 - val_loss: 0.2212 - val_accuracy: 0.9430\n",
      "Epoch 74/100\n",
      "38/38 [==============================] - 0s 2ms/step - loss: 0.0195 - accuracy: 0.9966 - val_loss: 0.2260 - val_accuracy: 0.9396\n",
      "Epoch 75/100\n",
      "38/38 [==============================] - 0s 2ms/step - loss: 0.0272 - accuracy: 0.9958 - val_loss: 0.2239 - val_accuracy: 0.9362\n",
      "Epoch 76/100\n",
      "38/38 [==============================] - 0s 2ms/step - loss: 0.0241 - accuracy: 0.9975 - val_loss: 0.2237 - val_accuracy: 0.9362\n",
      "Epoch 77/100\n",
      "38/38 [==============================] - 0s 2ms/step - loss: 0.0221 - accuracy: 0.9975 - val_loss: 0.2231 - val_accuracy: 0.9430\n",
      "Epoch 78/100\n",
      "38/38 [==============================] - 0s 2ms/step - loss: 0.0205 - accuracy: 0.9958 - val_loss: 0.2280 - val_accuracy: 0.9396\n",
      "Epoch 79/100\n",
      "38/38 [==============================] - 0s 2ms/step - loss: 0.0236 - accuracy: 0.9975 - val_loss: 0.2216 - val_accuracy: 0.9430\n",
      "Epoch 80/100\n",
      "38/38 [==============================] - 0s 2ms/step - loss: 0.0176 - accuracy: 1.0000 - val_loss: 0.2221 - val_accuracy: 0.9396\n",
      "Epoch 81/100\n",
      "38/38 [==============================] - 0s 2ms/step - loss: 0.0194 - accuracy: 0.9958 - val_loss: 0.2243 - val_accuracy: 0.9430\n",
      "Epoch 82/100\n",
      "38/38 [==============================] - 0s 2ms/step - loss: 0.0154 - accuracy: 0.9983 - val_loss: 0.2257 - val_accuracy: 0.9430\n",
      "Epoch 83/100\n",
      "38/38 [==============================] - 0s 2ms/step - loss: 0.0196 - accuracy: 0.9966 - val_loss: 0.2316 - val_accuracy: 0.9396\n",
      "Epoch 84/100\n",
      "38/38 [==============================] - 0s 2ms/step - loss: 0.0164 - accuracy: 0.9975 - val_loss: 0.2265 - val_accuracy: 0.9396\n",
      "Epoch 85/100\n",
      "38/38 [==============================] - 0s 2ms/step - loss: 0.0189 - accuracy: 0.9975 - val_loss: 0.2283 - val_accuracy: 0.9362\n",
      "Epoch 86/100\n",
      "38/38 [==============================] - 0s 2ms/step - loss: 0.0186 - accuracy: 0.9992 - val_loss: 0.2281 - val_accuracy: 0.9396\n",
      "Epoch 87/100\n",
      "38/38 [==============================] - 0s 2ms/step - loss: 0.0148 - accuracy: 1.0000 - val_loss: 0.2323 - val_accuracy: 0.9396\n",
      "Epoch 88/100\n",
      "38/38 [==============================] - 0s 2ms/step - loss: 0.0144 - accuracy: 0.9983 - val_loss: 0.2344 - val_accuracy: 0.9396\n",
      "Epoch 89/100\n",
      "38/38 [==============================] - 0s 2ms/step - loss: 0.0165 - accuracy: 0.9975 - val_loss: 0.2352 - val_accuracy: 0.9396\n",
      "Epoch 90/100\n",
      "38/38 [==============================] - 0s 2ms/step - loss: 0.0234 - accuracy: 0.9950 - val_loss: 0.2378 - val_accuracy: 0.9396\n",
      "Epoch 91/100\n",
      "38/38 [==============================] - 0s 2ms/step - loss: 0.0168 - accuracy: 0.9958 - val_loss: 0.2334 - val_accuracy: 0.9430\n",
      "Epoch 92/100\n",
      "38/38 [==============================] - 0s 2ms/step - loss: 0.0147 - accuracy: 0.9992 - val_loss: 0.2373 - val_accuracy: 0.9430\n",
      "Epoch 93/100\n",
      "38/38 [==============================] - 0s 2ms/step - loss: 0.0180 - accuracy: 0.9992 - val_loss: 0.2364 - val_accuracy: 0.9430\n",
      "Epoch 94/100\n",
      "38/38 [==============================] - 0s 2ms/step - loss: 0.0134 - accuracy: 0.9992 - val_loss: 0.2364 - val_accuracy: 0.9396\n",
      "Epoch 95/100\n",
      "38/38 [==============================] - 0s 2ms/step - loss: 0.0142 - accuracy: 0.9983 - val_loss: 0.2398 - val_accuracy: 0.9396\n",
      "Epoch 96/100\n",
      "38/38 [==============================] - 0s 2ms/step - loss: 0.0116 - accuracy: 0.9992 - val_loss: 0.2395 - val_accuracy: 0.9396\n",
      "Epoch 97/100\n",
      "38/38 [==============================] - 0s 2ms/step - loss: 0.0145 - accuracy: 0.9966 - val_loss: 0.2415 - val_accuracy: 0.9362\n",
      "Epoch 98/100\n",
      "38/38 [==============================] - 0s 2ms/step - loss: 0.0194 - accuracy: 0.9950 - val_loss: 0.2483 - val_accuracy: 0.9396\n",
      "Epoch 99/100\n",
      "38/38 [==============================] - 0s 2ms/step - loss: 0.0161 - accuracy: 0.9958 - val_loss: 0.2416 - val_accuracy: 0.9430\n",
      "Epoch 100/100\n",
      "38/38 [==============================] - 0s 2ms/step - loss: 0.0103 - accuracy: 0.9992 - val_loss: 0.2417 - val_accuracy: 0.9430\n"
     ]
    }
   ],
   "source": [
    "history = model.fit(train_padded_seq, train_label_seq, epochs=100, validation_data=(val_padded_seq, val_label_seq))"
   ]
  },
  {
   "cell_type": "code",
   "execution_count": 61,
   "id": "rural-sheffield",
   "metadata": {
    "tags": []
   },
   "outputs": [
    {
     "data": {
      "image/png": "[encoded data removed]",
      "text/plain": [
       "<Figure size 432x288 with 1 Axes>"
      ]
     },
     "metadata": {
      "needs_background": "light"
     },
     "output_type": "display_data"
    },
    {
     "data": {
      "image/png": "[encoded data removed]",
      "text/plain": [
       "<Figure size 432x288 with 1 Axes>"
      ]
     },
     "metadata": {
      "needs_background": "light"
     },
     "output_type": "display_data"
    }
   ],
   "source": [
    "def plot_graphs(history, metric):\n",
    "    plt.plot(history.history[metric])\n",
    "    plt.plot(history.history[f'val_{metric}'])\n",
    "    plt.xlabel(\"Epochs\")\n",
    "    plt.ylabel(metric)\n",
    "    plt.legend([metric, f'val_{metric}'])\n",
    "    plt.show()\n",
    "    \n",
    "plot_graphs(history, \"accuracy\")\n",
    "plot_graphs(history, \"loss\")"
   ]
  },
  {
   "cell_type": "markdown",
   "id": "material-breast",
   "metadata": {},
   "source": [
    "### Model Evaluation"
   ]
  },
  {
   "cell_type": "code",
   "execution_count": 62,
   "id": "40641380",
   "metadata": {},
   "outputs": [
    {
     "name": "stdout",
     "output_type": "stream",
     "text": [
      "10/10 [==============================] - 0s 759us/step\n"
     ]
    }
   ],
   "source": [
    "preds = model.predict(val_padded_seq)\n",
    "indices, values = tf.nn.top_k(preds, k=1)"
   ]
  },
  {
   "cell_type": "code",
   "execution_count": 90,
   "id": "4149c1c6",
   "metadata": {},
   "outputs": [
    {
     "data": {
      "image/png": "[encoded data removed]",
      "text/plain": [
       "<Figure size 432x288 with 2 Axes>"
      ]
     },
     "metadata": {
      "needs_background": "light"
     },
     "output_type": "display_data"
    }
   ],
   "source": [
    "from sklearn.metrics import confusion_matrix\n",
    "import seaborn as sns\n",
    "\n",
    "labels = label_tokenizer.word_index.keys()\n",
    "conf_mat = confusion_matrix(val_label_seq, values)\n",
    "sns.heatmap(conf_mat, annot=True, fmt='d',\n",
    "                       xticklabels=labels, yticklabels=labels, cmap='Blues')\n",
    "plt.ylabel('Actual')\n",
    "plt.xlabel('Predicted')\n",
    "plt.show()"
   ]
  }
 ],
 "metadata": {
  "dlai_version": "1.2.0",
  "kernelspec": {
   "display_name": "Python 3 (ipykernel)",
   "language": "python",
   "name": "python3"
  },
  "language_info": {
   "codemirror_mode": {
    "name": "ipython",
    "version": 3
   },
   "file_extension": ".py",
   "mimetype": "text/x-python",
   "name": "python",
   "nbconvert_exporter": "python",
   "pygments_lexer": "ipython3",
   "version": "3.9.7"
  }
 },
 "nbformat": 4,
 "nbformat_minor": 5
}
